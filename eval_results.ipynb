{
 "cells": [
  {
   "cell_type": "code",
   "execution_count": 1,
   "metadata": {},
   "outputs": [],
   "source": [
    "import json\n",
    "import os\n",
    "\n",
    "import numpy as np\n",
    "import pandas as pd\n",
    "from PIL import Image\n",
    "from tqdm import tqdm\n",
    "import matplotlib.pyplot as plt\n"
   ]
  },
  {
   "cell_type": "code",
   "execution_count": 2,
   "metadata": {},
   "outputs": [],
   "source": [
    "with open(\"experiments/exp0/results/ChatGPT_4_turbo__BLIP2_flan_t5_xxl.json\") as f:\n",
    "    gpt4_turbo_results = json.load(f)\n"
   ]
  },
  {
   "cell_type": "code",
   "execution_count": 3,
   "metadata": {},
   "outputs": [
    {
     "name": "stdout",
     "output_type": "stream",
     "text": [
      "Failed flips: 387\n"
     ]
    }
   ],
   "source": [
    "failed_flips = [\n",
    "    flip_key for flip_key, flip in gpt4_turbo_results[\"ChatGPT_4_turbo\"][\"BLIP2_flan_t5_xxl\"][\"flips_res\"].items() if not flip[\"acc\"]\n",
    "]\n",
    "print(f\"Failed flips: {len(failed_flips)}\")"
   ]
  },
  {
   "cell_type": "code",
   "execution_count": 4,
   "metadata": {},
   "outputs": [
    {
     "data": {
      "text/plain": [
       "'/flip/bafkreia2v23cs6gkkifim7jgrdebhgm4yotn6tqyg2hc3g24zeav3vcdyu'"
      ]
     },
     "execution_count": 4,
     "metadata": {},
     "output_type": "execute_result"
    }
   ],
   "source": [
    "failed_flips[0]"
   ]
  },
  {
   "cell_type": "code",
   "execution_count": 6,
   "metadata": {},
   "outputs": [
    {
     "name": "stderr",
     "output_type": "stream",
     "text": [
      "100%|██████████| 7317/7317 [00:06<00:00, 1070.96it/s]\n"
     ]
    }
   ],
   "source": [
    "\n",
    "flip = failed_flips[0]\n",
    "flip_id = flip.split('/')[-1]\n",
    "tasks = []\n",
    "for flip in failed_flips:\n",
    "    flip_id = flip.split('/')[-1]\n",
    "    with open(f\"data/full_flips_set/full_val_split/tasks/_flip_{flip_id}.json\") as f:\n",
    "        task = json.load(f)\n",
    "    tasks.append(task)\n",
    "\n",
    "images = {}\n",
    "for image_filename in tqdm(os.listdir(\"data/full_flips_set/full_val_split/images\")):\n",
    "    image_id = image_filename.split('/')[-1].replace(\".png\", \"\")\n",
    "    with open(f\"data/full_flips_set/full_val_split/images/{image_id}.png\", \"rb\") as f:\n",
    "        image = Image.open(f)\n",
    "        image = image.convert(\"RGB\")\n",
    "        # image = np.array(image)\n",
    "    images[image_id] = image"
   ]
  },
  {
   "cell_type": "code",
   "execution_count": 10,
   "metadata": {},
   "outputs": [
    {
     "data": {
      "text/plain": [
       "{'name': '/flip/bafkreia2v23cs6gkkifim7jgrdebhgm4yotn6tqyg2hc3g24zeav3vcdyu',\n",
       " 'image_lst1': {'0': 'blob:https://scan.idena.io/8d567f09-3df2-4cda-8e1a-5255be1d703f',\n",
       "  '1': 'blob:https://scan.idena.io/b03ebb6d-72d5-4c6c-807b-b2b59f468be3',\n",
       "  '2': 'blob:https://scan.idena.io/abb10807-69d9-4001-a8da-8db9ec358c8b',\n",
       "  '3': 'blob:https://scan.idena.io/8b957949-6cae-47fc-aa53-598c216dbc23'},\n",
       " 'image_lst2': {'0': 'blob:https://scan.idena.io/8b957949-6cae-47fc-aa53-598c216dbc23',\n",
       "  '1': 'blob:https://scan.idena.io/abb10807-69d9-4001-a8da-8db9ec358c8b',\n",
       "  '2': 'blob:https://scan.idena.io/b03ebb6d-72d5-4c6c-807b-b2b59f468be3',\n",
       "  '3': 'blob:https://scan.idena.io/8d567f09-3df2-4cda-8e1a-5255be1d703f'},\n",
       " 'agreed_answer': ['Right', 'Strong'],\n",
       " 'votes': {'Left': '-', 'Right': '9', 'Reported': '0'},\n",
       " 'details': {'Author:': '0x792b18A9188484983A556b01733b4f1743464CCb',\n",
       "  'Epoch:': '#0015',\n",
       "  'Size:': '118156 bytes',\n",
       "  'Created:': '10/27/2019 21:00:34',\n",
       "  'Block:': '418739',\n",
       "  'Tx:': '0x45f93de49f98382eec6e4133840a5a2f62269a66e25f38a980ad62413615bf71'}}"
      ]
     },
     "execution_count": 10,
     "metadata": {},
     "output_type": "execute_result"
    }
   ],
   "source": [
    "tasks[0]"
   ]
  },
  {
   "cell_type": "code",
   "execution_count": 26,
   "metadata": {},
   "outputs": [
    {
     "name": "stderr",
     "output_type": "stream",
     "text": [
      "100%|██████████| 387/387 [00:43<00:00,  8.85it/s]\n"
     ]
    }
   ],
   "source": [
    "\n",
    "def plot_task(task):\n",
    "    img_list1 = [\n",
    "        images[blob.split('/')[-1]] for blob in task[\"image_lst1\"].values()\n",
    "    ]\n",
    "    img_list2 = [\n",
    "        images[blob.split('/')[-1]] for blob in task[\"image_lst2\"].values()\n",
    "    ]\n",
    "\n",
    "    # Resize images to same width (scale height accordingly)\n",
    "    width = min(img.size[0] for img in img_list1 + img_list2)\n",
    "    img_list1 = [img.resize((width, int(img.size[1] * (width / img.size[0])))) for img in img_list1]\n",
    "    img_list2 = [img.resize((width, int(img.size[1] * (width / img.size[0])))) for img in img_list2]\n",
    "\n",
    "    # Stack the images into columns\n",
    "    image_column_1 = np.vstack([np.array(img) for img in img_list1])\n",
    "    image_column_2 = np.vstack([np.array(img) for img in img_list2])\n",
    "\n",
    "    # Get answer\n",
    "    answer = task[\"agreed_answer\"][0]\n",
    "\n",
    "    # Plot the stacks next to each other\n",
    "    fig, ax = plt.subplots(1, 2, figsize=(5, 5))\n",
    "    ax[0].imshow(image_column_1)\n",
    "    ax[0].axis('off')\n",
    "    ax[1].imshow(image_column_2)\n",
    "    ax[1].axis('off')\n",
    "    ax[0].set_title(\"Image List 1\")\n",
    "    ax[1].set_title(\"Image List 2\")\n",
    "    # Set the title for the entire figure\n",
    "    fig.suptitle(f\"{answer}\")\n",
    "    fig.tight_layout()\n",
    "    \n",
    "    return fig, ax\n",
    "\n",
    "def save_task(task, filename):\n",
    "    fig, ax = plot_task(task)\n",
    "    fig.savefig(filename)\n",
    "    plt.close(fig)\n",
    "# Create a directory to save the plots\n",
    "output_dir = \"failed_flips_plots\"\n",
    "os.makedirs(output_dir, exist_ok=True)\n",
    "# Save the plots for each task\n",
    "for i, task in tqdm(enumerate(tasks), total=len(tasks)):\n",
    "    filename = os.path.join(output_dir, f\"failed_flip_{i}.png\")\n",
    "    save_task(task, filename)\n",
    "\n"
   ]
  },
  {
   "cell_type": "code",
   "execution_count": 25,
   "metadata": {},
   "outputs": [
    {
     "data": {
      "text/plain": [
       "{'name': '/flip/bafybeihykityz5jpyopp6qkd5x5prigvjpvh6sjugqmwl6ewfboldkd6li',\n",
       " 'image_lst1': {'0': 'blob:https://scan.idena.io/bb1e7245-0021-4e88-a33e-4f180646b935',\n",
       "  '1': 'blob:https://scan.idena.io/cc7405ff-c47e-474e-bb76-2b5508f14f96',\n",
       "  '2': 'blob:https://scan.idena.io/2259b456-7c32-4847-b285-83a4e6117206',\n",
       "  '3': 'blob:https://scan.idena.io/6bdd47ba-e94d-4d39-8bef-bd681f7c6fc3'},\n",
       " 'image_lst2': {'0': 'blob:https://scan.idena.io/6bdd47ba-e94d-4d39-8bef-bd681f7c6fc3',\n",
       "  '1': 'blob:https://scan.idena.io/cc7405ff-c47e-474e-bb76-2b5508f14f96',\n",
       "  '2': 'blob:https://scan.idena.io/bb1e7245-0021-4e88-a33e-4f180646b935',\n",
       "  '3': 'blob:https://scan.idena.io/2259b456-7c32-4847-b285-83a4e6117206'},\n",
       " 'agreed_answer': ['Right', 'Strong'],\n",
       " 'votes': {'Left': '-', 'Right': '6', 'Reported': '2'},\n",
       " 'details': {'Author:': '0xa1488Ed8312DadA2AFb67C8a88119Ce5446a94B1',\n",
       "  'Epoch:': '#0033',\n",
       "  'Size:': '266717 bytes',\n",
       "  'Created:': '2/1/2020 13:19:26',\n",
       "  'Block:': '833520',\n",
       "  'Tx:': '0x3eb5aee8e9e60c9a1a8835821a8c26eb222bb8d55a85bd3208edadb219e03a7e'}}"
      ]
     },
     "execution_count": 25,
     "metadata": {},
     "output_type": "execute_result"
    }
   ],
   "source": [
    "task"
   ]
  }
 ],
 "metadata": {
  "kernelspec": {
   "display_name": "Python 3",
   "language": "python",
   "name": "python3"
  },
  "language_info": {
   "codemirror_mode": {
    "name": "ipython",
    "version": 3
   },
   "file_extension": ".py",
   "mimetype": "text/x-python",
   "name": "python",
   "nbconvert_exporter": "python",
   "pygments_lexer": "ipython3",
   "version": "3.12.3"
  }
 },
 "nbformat": 4,
 "nbformat_minor": 2
}
